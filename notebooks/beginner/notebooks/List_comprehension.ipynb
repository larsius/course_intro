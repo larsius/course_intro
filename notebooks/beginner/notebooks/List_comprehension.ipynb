{
 "cells": [
  {
   "cell_type": "markdown",
   "id": "b44b1060",
   "metadata": {},
   "source": [
    "### List slicing"
   ]
  },
  {
   "cell_type": "code",
   "execution_count": null,
   "id": "bcbaf63e",
   "metadata": {},
   "outputs": [],
   "source": [
    "nums = list(range(10))    \n",
    "print(nums)               \n",
    "print(nums[2:4])          # Get a slice from index 2 to 4 (exclusive)\n",
    "print(nums[2:])           # Get a slice from index 2 to the end\n",
    "print(nums[:2])           # Get a slice from the start to index 2 (exclusive)\n"
   ]
  },
  {
   "cell_type": "code",
   "execution_count": null,
   "id": "80272178",
   "metadata": {},
   "outputs": [],
   "source": [
    "print(nums[:])            # Get a slice of the whole list\n",
    "print(nums[:-1])          # Slice indices can be negative, this slices to the last element (excl.)\n",
    "nums[2:4] = [8, 9]        # Assign a new sublist to a slice\n",
    "print(nums)               "
   ]
  },
  {
   "cell_type": "markdown",
   "id": "cad3fc1e",
   "metadata": {},
   "source": [
    "### Lists in loops"
   ]
  },
  {
   "cell_type": "code",
   "execution_count": null,
   "id": "5bc05123",
   "metadata": {},
   "outputs": [],
   "source": [
    "nums = [0, 1, 2, 3, 4]\n",
    "squares = []\n",
    "for x in nums:\n",
    "    squares.append(x ** 2)\n",
    "print(squares) "
   ]
  },
  {
   "cell_type": "markdown",
   "id": "ba61beb2",
   "metadata": {},
   "source": [
    "#### ...doing it in another way (\"list comprehension\")"
   ]
  },
  {
   "cell_type": "code",
   "execution_count": null,
   "id": "f6681ef0",
   "metadata": {},
   "outputs": [],
   "source": [
    "nums = [0, 1, 2, 3, 4]\n",
    "squares = [x ** 2 for x in nums]\n",
    "print(squares) "
   ]
  },
  {
   "cell_type": "markdown",
   "id": "a3127f24",
   "metadata": {},
   "source": [
    "#### ... even including conditions"
   ]
  },
  {
   "cell_type": "code",
   "execution_count": null,
   "id": "9d5c4e28",
   "metadata": {},
   "outputs": [],
   "source": [
    "nums = [0, 1, 2, 3, 4]\n",
    "even_squares = [x ** 2 for x in nums if x % 2 == 0]\n",
    "print(even_squares) "
   ]
  },
  {
   "cell_type": "markdown",
   "id": "93e5b464",
   "metadata": {},
   "source": [
    "#### list comprehension can be used to contruct dictionaries:"
   ]
  },
  {
   "cell_type": "code",
   "execution_count": null,
   "id": "1753a303",
   "metadata": {},
   "outputs": [],
   "source": [
    "nums = [0, 1, 2, 3, 4, 5, 6, 7, 8, 9]\n",
    "even_num_to_square = {x: x ** 2 for x in nums if x % 2 == 0}\n",
    "print(even_num_to_square)"
   ]
  },
  {
   "cell_type": "code",
   "execution_count": null,
   "id": "04ded722",
   "metadata": {},
   "outputs": [],
   "source": []
  },
  {
   "cell_type": "code",
   "execution_count": null,
   "id": "58c50fd5",
   "metadata": {},
   "outputs": [],
   "source": []
  },
  {
   "cell_type": "code",
   "execution_count": null,
   "id": "904f3753",
   "metadata": {},
   "outputs": [],
   "source": []
  },
  {
   "cell_type": "code",
   "execution_count": null,
   "id": "2fa778d6",
   "metadata": {},
   "outputs": [],
   "source": []
  }
 ],
 "metadata": {
  "kernelspec": {
   "display_name": "Python 3 (ipykernel)",
   "language": "python",
   "name": "python3"
  },
  "language_info": {
   "codemirror_mode": {
    "name": "ipython",
    "version": 3
   },
   "file_extension": ".py",
   "mimetype": "text/x-python",
   "name": "python",
   "nbconvert_exporter": "python",
   "pygments_lexer": "ipython3",
   "version": "3.9.12"
  }
 },
 "nbformat": 4,
 "nbformat_minor": 5
}
